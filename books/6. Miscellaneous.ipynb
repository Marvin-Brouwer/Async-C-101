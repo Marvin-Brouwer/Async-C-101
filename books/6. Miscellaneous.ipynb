{
 "cells": [
  {
   "cell_type": "markdown",
   "metadata": {},
   "source": [
    "# Miscellaneous \n",
    "\n",
    "Some topics don't need an entire chapter but are still worth discussing"
   ]
  },
  {
   "cell_type": "markdown",
   "metadata": {},
   "source": [
    "## Async Eliding\n",
    "\n",
    "Async eliding is where you don't await a task but pass it through as a return value.  \n",
    "https://blog.stephencleary.com/2016/12/eliding-async-await.html  \n",
    "\n",
    "This can greatly reduce CPU cycles in some cases and is important around guard clauses.\n",
    "\n",
    "Consider this example:"
   ]
  },
  {
   "cell_type": "code",
   "execution_count": 16,
   "metadata": {},
   "outputs": [
    {
     "name": "stdout",
     "output_type": "stream",
     "text": [
      "4\n"
     ]
    }
   ],
   "source": [
    "using System.Threading.Tasks;\n",
    "\n",
    "Task<int>AddAsync(int a, int b) {\n",
    "    return Task.FromResult(a + b);\n",
    "}\n",
    "\n",
    "public async Task<int> DoSomeCalculations(int a) {\n",
    "\n",
    "    var result = await AddAsync(a, 1);\n",
    "    return result;\n",
    "}\n",
    "\n",
    "var sum = await DoSomeCalculations(3);\n",
    "Console.WriteLine(sum);"
   ]
  },
  {
   "cell_type": "markdown",
   "metadata": {},
   "source": [
    "You don't need to await AddAsync here. As discussed in chapter 4, this will generate an entire state machine for this async await while you don't really need it.  \n",
    "You can just as easily do this:"
   ]
  },
  {
   "cell_type": "code",
   "execution_count": 17,
   "metadata": {},
   "outputs": [
    {
     "name": "stdout",
     "output_type": "stream",
     "text": [
      "4\n"
     ]
    }
   ],
   "source": [
    "using System.Threading.Tasks;\n",
    "\n",
    "Task<int>AddAsync(int a, int b) {\n",
    "    return Task.FromResult(a + b);\n",
    "}\n",
    "\n",
    "public Task<int> DoSomeCalculations(int a) {\n",
    "\n",
    "    return AddAsync(a, 1);\n",
    "}\n",
    "\n",
    "var sum = await DoSomeCalculations(3);\n",
    "Console.WriteLine(sum);"
   ]
  },
  {
   "cell_type": "markdown",
   "metadata": {},
   "source": [
    "This has the same result but doesn't generate a state machine for this method, you can see that when you paste both examples into sharplab.io.\n",
    "\n",
    "This example only works if you're awaiting a single task though, so it's not applicable to this example:  "
   ]
  },
  {
   "cell_type": "code",
   "execution_count": null,
   "metadata": {},
   "outputs": [
    {
     "name": "stdout",
     "output_type": "stream",
     "text": [
      "22\n"
     ]
    }
   ],
   "source": [
    "using System.Threading.Tasks;\n",
    "\n",
    "Task<int>AddAsync(int a, int b) {\n",
    "    return Task.FromResult(a + b);\n",
    "}\n",
    "\n",
    "public async Task<int> DoSomeCalculations(int a) {\n",
    "\n",
    "    var result = await AddAsync(a, 1);\n",
    "    result += await AddAsync(a, 4);\n",
    "    result += await AddAsync(a, 8);\n",
    "\n",
    "    return result;\n",
    "}\n",
    "\n",
    "var sum = await DoSomeCalculations(3);\n",
    "Console.WriteLine(sum);"
   ]
  },
  {
   "cell_type": "markdown",
   "metadata": {},
   "source": [
    "This eliding technique becomes particularly important when working with guard clauses.  \n",
    "Consider the following example:"
   ]
  },
  {
   "cell_type": "code",
   "execution_count": 18,
   "metadata": {},
   "outputs": [
    {
     "name": "stdout",
     "output_type": "stream",
     "text": [
      "27\n"
     ]
    }
   ],
   "source": [
    "using System.Threading.Tasks;\n",
    "\n",
    "Task<int>AddAsync(int a, int b) {\n",
    "    return Task.FromResult(a + b);\n",
    "}\n",
    "\n",
    "public async Task<int> DoSomeCalculations(int a, int? b) {\n",
    "\n",
    "    if (b is null) throw new ArgumentNullException(nameof(b));\n",
    "\n",
    "    var result = await AddAsync(a, 1);\n",
    "    result += await AddAsync(a, b.Value);\n",
    "    result += await AddAsync(a, 8);\n",
    "\n",
    "    return result;\n",
    "}\n",
    "\n",
    "var sum = await DoSomeCalculations(3, 9);\n",
    "Console.WriteLine(sum);"
   ]
  },
  {
   "cell_type": "markdown",
   "metadata": {},
   "source": [
    "This looks fine, however if we now pass null as the `b` parameter this throws an exception."
   ]
  },
  {
   "cell_type": "code",
   "execution_count": 19,
   "metadata": {},
   "outputs": [
    {
     "name": "stdout",
     "output_type": "stream",
     "text": [
      "Value cannot be null. (Parameter 'b')\n"
     ]
    }
   ],
   "source": [
    "using System.Threading.Tasks;\n",
    "\n",
    "Task<int>AddAsync(int a, int b) {\n",
    "    return Task.FromResult(a + b);\n",
    "}\n",
    "\n",
    "public async Task<int> DoSomeCalculations(int a, int? b) {\n",
    "\n",
    "    if (b is null) throw new ArgumentNullException(nameof(b));\n",
    "\n",
    "    var result = await AddAsync(a, 1);\n",
    "    result += await AddAsync(a, b.Value);\n",
    "    result += await AddAsync(a, 8);\n",
    "\n",
    "    return result;\n",
    "}\n",
    "\n",
    "try {\n",
    "    var sum = await DoSomeCalculations(3, null);\n",
    "    Console.WriteLine(sum);\n",
    "} \n",
    "catch (Exception ex) \n",
    "{\n",
    "    Console.WriteLine(ex.Message);\n",
    "}"
   ]
  },
  {
   "cell_type": "markdown",
   "metadata": {},
   "source": [
    "Since we are awaiting this the state machine will neatly handle the exception and re-throw it inside of your method.  \n",
    "If we don't await this something else happens."
   ]
  },
  {
   "cell_type": "code",
   "execution_count": 20,
   "metadata": {},
   "outputs": [
    {
     "name": "stdout",
     "output_type": "stream",
     "text": [
      "System.Threading.Tasks.Task`1[System.Int32]\n"
     ]
    }
   ],
   "source": [
    "using System.Threading.Tasks;\n",
    "\n",
    "Task<int>AddAsync(int a, int b) {\n",
    "    return Task.FromResult(a + b);\n",
    "}\n",
    "\n",
    "public async Task<int> DoSomeCalculations(int a, int? b) {\n",
    "\n",
    "    if (b is null) throw new ArgumentNullException(nameof(b));\n",
    "\n",
    "    var result = await AddAsync(a, 1);\n",
    "    result += await AddAsync(a, b.Value);\n",
    "    result += await AddAsync(a, 8);\n",
    "\n",
    "    return result;\n",
    "}\n",
    "\n",
    "try {\n",
    "    var sum = DoSomeCalculations(3, null);\n",
    "    Console.WriteLine(sum);\n",
    "} \n",
    "catch (Exception ex) \n",
    "{\n",
    "    Console.WriteLine(ex.Message);\n",
    "}"
   ]
  },
  {
   "cell_type": "markdown",
   "metadata": {},
   "source": [
    "Because your async method is not awaited, it throws the exception in the state machine, which is outside of your method's context so it bubbles up to your application and crashes the process. This is dotnet intentional behavior, if the runtime encounters an unhandled exception it terminates the process.\n",
    "\n",
    "So how do you prevent that?\n",
    "Like so:"
   ]
  },
  {
   "cell_type": "code",
   "execution_count": 9,
   "metadata": {},
   "outputs": [
    {
     "name": "stdout",
     "output_type": "stream",
     "text": [
      "Value cannot be null. (Parameter 'b')\n"
     ]
    }
   ],
   "source": [
    "using System.Threading.Tasks;\n",
    "\n",
    "Task<int>AddAsync(int a, int b) {\n",
    "    return Task.FromResult(a + b);\n",
    "}\n",
    "\n",
    "public Task<int> DoSomeCalculationsAsync(int a, int? b) {\n",
    "\n",
    "    if (b is null) throw new ArgumentNullException(nameof(b));\n",
    "\n",
    "    return DoSomeCalculations(a, b.Value);\n",
    "}\n",
    "\n",
    "private async Task<int> DoSomeCalculations(int a, int b) {\n",
    "\n",
    "    var result = await AddAsync(a, 1);\n",
    "    result += await AddAsync(a, b);\n",
    "    result += await AddAsync(a, 8);\n",
    "\n",
    "    return result;\n",
    "}\n",
    "\n",
    "try {\n",
    "    var sum = DoSomeCalculationsAsync(3, null);\n",
    "    Console.WriteLine(sum);\n",
    "} \n",
    "catch (Exception ex) \n",
    "{\n",
    "    Console.WriteLine(ex.Message);\n",
    "}"
   ]
  },
  {
   "cell_type": "markdown",
   "metadata": {},
   "source": [
    "As you can see, this throws the exception within your context, so it doesn't blow up the application while it's functionally the same.\n",
    "\n",
    "So why is this important? You're supposed to `await` them anyway right?\n",
    "The short answer, deferred await.\n",
    "For example a `Task.WhenAll()` scenario."
   ]
  },
  {
   "cell_type": "code",
   "execution_count": 21,
   "metadata": {},
   "outputs": [
    {
     "name": "stdout",
     "output_type": "stream",
     "text": [
      "Value cannot be null. (Parameter 'b')\n"
     ]
    }
   ],
   "source": [
    "using System.Threading.Tasks;\n",
    "\n",
    "Task<int>AddAsync(int a, int b) {\n",
    "    return Task.FromResult(a + b);\n",
    "}\n",
    "\n",
    "public Task<int> DoSomeCalculationsAsync(int a, int? b) {\n",
    "\n",
    "    if (b is null) throw new ArgumentNullException(nameof(b));\n",
    "\n",
    "    return DoSomeCalculations(a, b.Value);\n",
    "}\n",
    "\n",
    "private async Task<int> DoSomeCalculations(int a, int b) {\n",
    "\n",
    "    var result = await AddAsync(a, 1);\n",
    "    result += await AddAsync(a, b);\n",
    "    result += await AddAsync(a, 8);\n",
    "\n",
    "    return result;\n",
    "}\n",
    "\n",
    "try {\n",
    "\n",
    "    var sumTask1 = DoSomeCalculationsAsync(3, 6);\n",
    "    var sumTask2 = DoSomeCalculationsAsync(3, null);\n",
    "\n",
    "    await Task.WaitAll(sumTask1, sumTask2);\n",
    "\n",
    "    Console.WriteLine(sumTask1.GetAwaiter().GetResult());\n",
    "    Console.WriteLine(sumTask1.GetAwaiter().GetResult());\n",
    "} \n",
    "catch (Exception ex) \n",
    "{\n",
    "    Console.WriteLine(ex.Message);\n",
    "}"
   ]
  }
 ],
 "metadata": {
  "kernelspec": {
   "display_name": ".NET (C#)",
   "language": "C#",
   "name": ".net-csharp"
  },
  "language_info": {
   "file_extension": ".cs",
   "mimetype": "text/x-csharp",
   "name": "C#",
   "pygments_lexer": "csharp",
   "version": "8.0"
  },
  "orig_nbformat": 4
 },
 "nbformat": 4,
 "nbformat_minor": 2
}
