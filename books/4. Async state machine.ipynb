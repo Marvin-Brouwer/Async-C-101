{
 "cells": [
  {
   "cell_type": "markdown",
   "metadata": {},
   "source": [
    "# Async state machine\n",
    "\n",
    "So, how does async work technically.\n",
    "To achieve a similar flow as Promises DotNet took a different direction.  \n",
    "It's a much more mechanical solution involving state machines and lowering, as opposed to callback mechanics.\n",
    "\n",
    "Consider the following code, from the earlier example:\n",
    "```ts\n",
    "import { waitFor } from \"./helpfiles/Wait\";\n",
    "\n",
    "async function waitingExample() : Promise<void>\n",
    "{\n",
    "    console.log(\"Start of method\");\n",
    "    await waitFor(600);\n",
    "    console.log(\"End of method\");\n",
    "} \n",
    "\n",
    "void Promise.resolve(waitingExample());\n",
    "```\n",
    "If we translate this to C# it will look something like this:"
   ]
  },
  {
   "cell_type": "code",
   "execution_count": 2,
   "metadata": {},
   "outputs": [
    {
     "name": "stdout",
     "output_type": "stream",
     "text": [
      "Start of method\n",
      "End of method\n"
     ]
    }
   ],
   "source": [
    "using System;\n",
    "using System.Threading.Tasks;\n",
    "\n",
    "async Task WaitingExample() {\n",
    "\n",
    "    Console.WriteLine(\"Start of method\");\n",
    "    await Task.Delay(600);\n",
    "    Console.WriteLine(\"End of method\");\n",
    "}\n",
    "\n",
    "await WaitingExample();"
   ]
  },
  {
   "cell_type": "markdown",
   "metadata": {},
   "source": [
    "Remember that functionally this is just split into 2 methods at the await.  \n",
    "However, technically it looks very different.  \n",
    "  \n",
    "If you lower this code, see [this example](https://sharplab.io/#gist:e25ac27df8564525d2229bcb89bf0520) on sharplab.io\n",
    "you will recognize `MoveNext()` twice.  \n",
    "**Surprise** it works kind of similar to enumerators.  \n",
    "\n",
    "Because we have no Program class with Main function the example generates a lot of code for us, however we are interested in: `<<<Main>$>g__WaitingExample|0_0>d`.  \n",
    "In this example the state machine has 4 states:  \n",
    "- `-2`: Completed  \n",
    "  Note that this is set for both exceptions and completions\n",
    "- `-1`: Task Running\n",
    "- `0`: Awaiting finished  \n",
    "  ```csharp\n",
    "    if (!awaiter.IsCompleted)\n",
    "    {\n",
    "        num = (<>1__state = 0);\n",
    "        //...\n",
    "    }\n",
    "  ```\n",
    "\n",
    "If you were to add another await you'll add states here.  \n",
    "For example:  \n",
    "```csharp\n",
    "async Task WaitingExample() {\n",
    "\n",
    "    Console.WriteLine(\"Start of method\");\n",
    "    await Task.Delay(300);\n",
    "    Console.WriteLine(\"Middle of method\");\n",
    "    await Task.Delay(300);\n",
    "    Console.WriteLine(\"End of method\");\n",
    "}\n",
    "```\n",
    "Add's a `1` state, apparently using goto's.  \n",
    "The more awaits your method has, the more states added to this machine.  \n",
    "It probably changes the way it optimizes the loop when this object becomes larger, just like with if and switch statements but that is something you can play around with to validate.  \n",
    "\n",
    "The way it eventually runs this is by calling `<Main>$(args).GetAwaiter().GetResult();`.  \n",
    "This is handled by the compiler for you, when using Console apps by generating this, when using web apps the framework takes care of this.\n"
   ]
  }
 ],
 "metadata": {
  "kernelspec": {
   "display_name": ".NET (C#)",
   "language": "C#",
   "name": ".net-csharp"
  },
  "language_info": {
   "file_extension": ".cs",
   "mimetype": "text/x-csharp",
   "name": "C#",
   "pygments_lexer": "csharp",
   "version": "8.0"
  },
  "orig_nbformat": 4
 },
 "nbformat": 4,
 "nbformat_minor": 2
}
