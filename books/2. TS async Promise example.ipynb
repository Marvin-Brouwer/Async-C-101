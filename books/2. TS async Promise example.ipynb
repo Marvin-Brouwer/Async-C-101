{
    "cells": [
        {
            "cell_type": "markdown",
            "metadata": {},
            "source": [
                "# Async C# visualized with TS\n",
                "\n",
                "To get you started, you need to wrap your head around what `async` does.  \n",
                "To do so, I found it's easiest to imagine `Task` to behave like JavaScript.  \n",
                "\n",
                "JavaScript has a similar thing to C#'s `Task<T>` and it's called a `Promise<T>`.  \n",
                "The technical implementation is very different however, we can use this `Promise` as an example to show how async functionally operates."
            ]
        },
        {
            "cell_type": "markdown",
            "metadata": {},
            "source": [
                "## Async example\n",
                "\n",
                "Let's say we have an example function that waits for 200ms between logging.  \n",
                "For the sake of this example, `waitFor(600)` can be considered equal to C#'s `Task.Delay(600)`."
            ]
        },
        {
            "cell_type": "code",
            "execution_count": 3,
            "metadata": {},
            "outputs": [
                {
                    "name": "stdout",
                    "output_type": "stream",
                    "text": [
                        "Start of method\n",
                        "End of method\n"
                    ]
                }
            ],
            "source": [
                "import { waitFor } from \"./helpfiles/Wait\";\n",
                "\n",
                "async function waitingExample(): Promise<void>\n",
                "{\n",
                "    console.log(\"Start of method\");\n",
                "    await waitFor(600);\n",
                "    console.log(\"End of method\");\n",
                "} \n",
                "\n",
                "void Promise.resolve(waitingExample());"
            ]
        },
        {
            "cell_type": "markdown",
            "metadata": {},
            "source": [
                "You see it logs \"Start of method\" waits for a while and then logs \"End of method\""
            ]
        },
        {
            "cell_type": "markdown",
            "metadata": {},
            "source": [
                "## Functional split\n",
                "\n",
                "A way to approach visualizing how this async code works can be done as follows:  \n",
                "_It's important to not that JavaScript has not Threads in normal cases_"
            ]
        },
        {
            "cell_type": "code",
            "execution_count": 4,
            "metadata": {},
            "outputs": [
                {
                    "name": "stdout",
                    "output_type": "stream",
                    "text": [
                        "Start of method\n",
                        "End of method\n"
                    ]
                }
            ],
            "source": [
                "function waitingExampleA()\n",
                "{\n",
                "    console.log(\"Start of method\");\n",
                "    setTimeout(() => waitingExampleB(), 600);\n",
                "} \n",
                "\n",
                "function waitingExampleB()\n",
                "{\n",
                "    console.log(\"End of method\");\n",
                "} \n",
                "\n",
                "waitingExampleA();"
            ]
        },
        {
            "cell_type": "markdown",
            "metadata": {},
            "source": [
                "The method is split at the point where `await` is called, and a call back mechanism is being used to execute the second part when the Promise returns it's value.  \n",
                "  \n",
                "In fact, in JavaScript you can use a Promise this way:"
            ]
        },
        {
            "cell_type": "code",
            "execution_count": 5,
            "metadata": {},
            "outputs": [
                {
                    "name": "stdout",
                    "output_type": "stream",
                    "text": [
                        "Start of method\n",
                        "End of method\n"
                    ]
                }
            ],
            "source": [
                "import { waitFor } from \"./helpfiles/Wait\";\n",
                "\n",
                "function waitingExampleA()\n",
                "{\n",
                "    console.log(\"Start of method\");\n",
                "    waitFor(600).then(waitingExampleB);\n",
                "} \n",
                "\n",
                "function waitingExampleB()\n",
                "{\n",
                "    console.log(\"End of method\");\n",
                "} \n",
                "\n",
                "waitingExampleA();"
            ]
        },
        {
            "cell_type": "markdown",
            "metadata": {},
            "source": [
                "This is also true for the `Task<T>` in C# however that is a slightly more complicated setup.  \n",
                "  \n",
                "Important to note is that a `Task<T>`, a `Promise<T>` or in some languages even a `Future` are not a task in itself.  \n",
                "They are a Promise of a task that will resolve into a value.  \n",
                "You tell it what to do when it's done, the `async` keyword is just syntactic sugar to make it look like synchronous code to make it easier to understand."
            ]
        }
    ],
    "metadata": {
        "interpreter": {
            "hash": "7d3852b5c730abebdc28ce2123b3957ddf9f4081cf029b9a93e3bb5836f5e572"
        },
        "kernelspec": {
            "display_name": "TypeScript",
            "language": "typescript",
            "name": "tslab"
        },
        "language_info": {
            "codemirror_mode": {
                "mode": "typescript",
                "name": "javascript",
                "typescript": true
            },
            "file_extension": ".ts",
            "mimetype": "text/typescript",
            "name": "typescript",
            "version": "3.7.2"
        },
        "orig_nbformat": 4
    },
    "nbformat": 4,
    "nbformat_minor": 2
}
