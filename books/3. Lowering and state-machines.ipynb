{
 "cells": [
  {
   "cell_type": "markdown",
   "metadata": {},
   "source": [
    "# C# Lowering and State machines\n",
    "\n",
    "## Lowering\n",
    "\n",
    "To understand how C# manages Tasks to be non-blocking, first you need to understand `lowering`.  \n",
    "I couldn't find any docs on this. Lowering basically is the compiler changing complex C# code into simpler instructions.  \n",
    "\n",
    "The C# compiler will transform you code into `IL Code` or intermediate language code.  \n",
    "This is a language your JIT compiler understand and is something close to machine code but also not really.  \n",
    "It's closer to Java's JAR file.\n",
    "\n",
    "Because you don't want to have to update the runtime every time you add new syntax to C# the compiler lowers your code into something more lower level.  \n",
    "For instance, consider a foreach loop:"
   ]
  },
  {
   "cell_type": "code",
   "execution_count": 5,
   "metadata": {},
   "outputs": [
    {
     "name": "stdout",
     "output_type": "stream",
     "text": [
      "1 2 3 "
     ]
    }
   ],
   "source": [
    "using System;\n",
    "using System.Collections.Generic;\n",
    "\n",
    "var exampleList = new List<int>{ 1, 2, 3 };\n",
    "\n",
    "foreach (var item in exampleList)\n",
    "{\n",
    "    Console.Write(item.ToString() + \" \");\n",
    "}"
   ]
  },
  {
   "cell_type": "markdown",
   "metadata": {},
   "source": [
    "The compiler does not know what a foreach is, so then how does this work.  \n",
    "We can rewrite this as follows:"
   ]
  },
  {
   "cell_type": "code",
   "execution_count": 6,
   "metadata": {},
   "outputs": [
    {
     "name": "stdout",
     "output_type": "stream",
     "text": [
      "1 2 3 "
     ]
    }
   ],
   "source": [
    "using System;\n",
    "using System.Collections.Generic;\n",
    "\n",
    "var exampleList = new List<int>{ 1, 2, 3 };\n",
    "\n",
    "var exampleEnumerator = exampleList.GetEnumerator();\n",
    "while (exampleEnumerator.MoveNext())\n",
    "{\n",
    "    var item = exampleEnumerator.Current;\n",
    "    Console.Write(item.ToString() + \" \");\n",
    "}"
   ]
  },
  {
   "cell_type": "markdown",
   "metadata": {},
   "source": [
    "In fact this is what the compiler lowers a foreach loop into.  \n",
    "See [this example](https://sharplab.io/#gist:c45657e27dc3496d18f29e1f1efa66e7) on [sharplabs.io] to see what it actually does."
   ]
  },
  {
   "cell_type": "markdown",
   "metadata": {},
   "source": [
    "# State machines\n",
    "\n",
    "To understand how async works and give some more insights on how these enumerables work in DotNet consider the following code:"
   ]
  },
  {
   "cell_type": "code",
   "execution_count": 2,
   "metadata": {},
   "outputs": [
    {
     "name": "stdout",
     "output_type": "stream",
     "text": [
      "1 2 3 "
     ]
    }
   ],
   "source": [
    "using System;\n",
    "using System.Collections.Generic;\n",
    "\n",
    "var exampleList = new List<int>{ 1, 2, 3 };\n",
    "\n",
    "foreach (var item in exampleList)\n",
    "{\n",
    "    Console.Write(item.ToString() + \" \");\n",
    "}\n",
    "\n",
    "static IEnumerable<int> ExampleList() {\n",
    "    yield return 1;        \n",
    "    yield return 2;        \n",
    "    yield return 3;\n",
    "}"
   ]
  },
  {
   "cell_type": "markdown",
   "metadata": {},
   "source": [
    "In this example the `yield return` statement doesn't do much. Normally this may contain some logic in between it to determine when and what to yield etc.  \n",
    "When you inspect [this example](https://sharplab.io/#gist:93218f4fbb0d520690bcc629f8a284fe) in sharplabs you can see what kind of code is generated.  \n",
    "This is how C# orchestrates yielding internally.\n",
    "\n",
    "So why is this important?  \n",
    "This is the simples example of a state machine to be found within compiler generated code.  \n",
    "If you inspect the `MoveNext()` you can get an idea of how this works:"
   ]
  },
  {
   "cell_type": "code",
   "execution_count": 6,
   "metadata": {},
   "outputs": [],
   "source": [
    "private int __state;\n",
    "private int __current;\n",
    "\n",
    "private bool MoveNext()\n",
    "{\n",
    "    switch (__state)\n",
    "    {\n",
    "        default:\n",
    "            return false;\n",
    "        case 0:\n",
    "            __state = -1;\n",
    "            __current = 1;\n",
    "            __state = 1;\n",
    "            return true;\n",
    "        case 1:\n",
    "            __state = -1;\n",
    "            __current = 2;\n",
    "            __state = 2;\n",
    "            return true;\n",
    "        case 2:\n",
    "            __state = -1;\n",
    "            __current = 3;\n",
    "            __state = 3;\n",
    "            return true;\n",
    "        case 3:\n",
    "            __state = -1;\n",
    "            return false;\n",
    "    }\n",
    "}"
   ]
  },
  {
   "cell_type": "markdown",
   "metadata": {},
   "source": [
    "There's a log going on around this so let's zoom in on the `MoveNext()`.  \n",
    "We gave it 3 values, and the compiler generates a switch statement with 4 cases,   \n",
    "1 for each int, and a last one with a state to indicate we're at the end of the collection."
   ]
  }
 ],
 "metadata": {
  "kernelspec": {
   "display_name": ".NET (C#)",
   "language": "C#",
   "name": ".net-csharp"
  },
  "language_info": {
   "file_extension": ".cs",
   "mimetype": "text/x-csharp",
   "name": "C#",
   "pygments_lexer": "csharp",
   "version": "8.0"
  },
  "orig_nbformat": 4
 },
 "nbformat": 4,
 "nbformat_minor": 2
}
