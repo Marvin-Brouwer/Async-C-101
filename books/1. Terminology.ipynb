{
 "cells": [
  {
   "cell_type": "markdown",
   "metadata": {},
   "source": [
    "# Async terminology\n",
    "\n",
    "- **Concurrency**\n",
    "- **Parallelism** \n",
    "- **Asynchrony**\n",
    "- **Multi-threading** & Multiprocessing\n",
    "\n",
    "\n",
    "## Concurrency\n",
    "> the fact of two or more events or circumstances happening or existing at the same time.\n",
    "\n",
    "[google definitions](https://www.google.com/search?q=what+is+concurrency)\n",
    "\n",
    "Concurrency means executing multiple tasks at the same time, _but not necessarily simultaneously._\n",
    "This is just a concept.\n",
    "\n",
    "## Parallelism\n",
    "> the use of parallel processing.\n",
    "\n",
    "[google definitions](https://www.google.com/search?q=what+is+parallelism)\n",
    "\n",
    "`Parallelism` is a specific kind of concurrency where tasks are really executed simultaneously. In computer science, parallelism can\n",
    "only be achieved in multi core environments.  \n",
    "\n",
    "[stackoverflow](https://stackoverflow.com/a/62657337/2319865)\n",
    "\n",
    "## Asynchrony\n",
    "> the quality or state of being asynchronous : absence or lack of concurrence in time\n",
    "\n",
    "[webster](https://www.merriam-webster.com/dictionary/asynchrony#:~:text=Definition%20of%20asynchrony,lack%20of%20concurrence%20in%20time)\n",
    "\n",
    "> Asynchronous methods aren't directly related to the previous two concepts, asynchrony is used to present the impression of concurrent or parallel tasking \n",
    "> but effectively an asynchronous method call is normally used for a process that needs to do work away from the current application \n",
    "> and we don't want to wait and block our application awaiting the response.  \n",
    "\n",
    "[stackoverflow](https://stackoverflow.com/a/4844774/2319865)\n",
    "\n",
    "## Multi-threading\n",
    "> a technique by which a single set of code can be used by several processors at different stages of execution.\n",
    "\n",
    "[google definitions](https://www.google.com/search?q=what+is+multithreading)\n",
    "\n",
    "## Multiprocessing\n",
    "> the running of two or more programs or sequences of instructions simultaneously by a computer with more than one central processor.  \n",
    "This is very similar to multi-threading, however in this case your OS is responsible for distributing load as opposed to the Process running the application.  \n",
    "\n",
    "[google definitions](https://www.google.com/search?q=what+is+multiprocessing)\n",
    "\n",
    "## Summary\n",
    "\n",
    "![sync vs multi-threaded vs async vs async multi-threaded](https://i.stack.imgur.com/lD550.png)"
   ]
  },
  {
   "cell_type": "markdown",
   "metadata": {},
   "source": []
  }
 ],
 "metadata": {
  "language_info": {
   "name": "python"
  },
  "orig_nbformat": 4
 },
 "nbformat": 4,
 "nbformat_minor": 2
}
