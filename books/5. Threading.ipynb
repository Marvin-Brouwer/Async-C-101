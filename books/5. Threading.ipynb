{
 "cells": [
  {
   "cell_type": "markdown",
   "metadata": {},
   "source": [
    "# Threading\n",
    "\n",
    "So then how does the threading part work?  \n",
    "This is where the real magic happens, some part of this is done by the compiler.  \n",
    "However, most of the threading is caused by libraries using IO. (interoperability)  \n",
    "\n",
    "Some examples of IO:\n",
    "- Reading files\n",
    "- Doing HTTP requests (or any UTP request)\n",
    "- Reading databases\n",
    "\n",
    "Basically everything that leaves your application and comes back later.  \n",
    "\n",
    "It is possible to tell a Task to request a new thread from the tread pool using the `System.Threading.Tasks.Task.Factory.StartNew()`   \n",
    "or in newer versions simply `System.Threading.Tasks.Task.Run()`. **HOWEVER**, you probably almost always won't need this.\n",
    "  \n",
    "## Scheduling threads\n",
    "\n",
    "But then how does that not block the application?  \n",
    "In short: the `Tasks` internally use a `TaskSchedular` which is responsible for scheduling operations on a thread pool.  \n",
    "Then in the state machine it simply polls if the tread has a result and retrieves that when it's available.  \n",
    "There is a lot more to this, but I don't think it's immediately important to know.  \n",
    "If you'd like to know more I recommend doing the [async expert](https://asyncexpert.com) course.  \n",
    "\n",
    "So how does that look functionally?  "
   ]
  },
  {
   "cell_type": "code",
   "execution_count": 10,
   "metadata": {},
   "outputs": [
    {
     "data": {
      "text/html": [
       "<figure>\n",
       "    <iframe \n",
       "        src=\"https://docs.google.com/viewer?url=https://goodies.dotnetos.org/files/dotnetos-async_thereisnothread.pdf&embedded=true\" \n",
       "        width=\"600\", height=\"400\"\n",
       "    ></iframe>\n",
       "    <figcaption>\n",
       "        Source: <a href=\"https://goodies.dotnetos.org/files/dotnetos-async_thereisnothread.pdf\">https://goodies.dotnetos.org/files/dotnetos-async_thereisnothread.pdf</a>\n",
       "    <figcaption>\n",
       "<figure>\n"
      ],
      "text/plain": [
       "<IPython.core.display.HTML object>"
      ]
     },
     "metadata": {},
     "output_type": "display_data"
    }
   ],
   "source": [
    "%%HTML\n",
    "<figure>\n",
    "    <iframe \n",
    "        src=\"https://docs.google.com/viewer?url=https://goodies.dotnetos.org/files/dotnetos-async_thereisnothread.pdf&embedded=true\" \n",
    "        width=\"600\", height=\"400\"\n",
    "    ></iframe>\n",
    "    <figcaption>\n",
    "        Source: <a href=\"https://goodies.dotnetos.org/files/dotnetos-async_thereisnothread.pdf\">https://goodies.dotnetos.org/files/dotnetos-async_thereisnothread.pdf</a>\n",
    "    <figcaption>\n",
    "<figure>"
   ]
  },
  {
   "cell_type": "markdown",
   "metadata": {},
   "source": [
    "As this example illustrates, your task doesn't really spawn any new threads when using IO, it just schedules it to continue at a later stage.  \n",
    "And it doesn't care on which thread this happens.  "
   ]
  }
 ],
 "metadata": {
  "interpreter": {
   "hash": "ee1a971f2df846a446e9cd328d195b99417b541d86415547fa298e7b23825ee5"
  },
  "kernelspec": {
   "display_name": ".NET (C#)",
   "language": "python",
   "name": "python3"
  },
  "language_info": {
   "codemirror_mode": {
    "name": "ipython",
    "version": 3
   },
   "file_extension": ".py",
   "mimetype": "text/x-python",
   "name": "python",
   "nbconvert_exporter": "python",
   "pygments_lexer": "ipython3",
   "version": "3.9.11"
  },
  "orig_nbformat": 4
 },
 "nbformat": 4,
 "nbformat_minor": 2
}
